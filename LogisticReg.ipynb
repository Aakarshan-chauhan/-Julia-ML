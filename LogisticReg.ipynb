{
 "cells": [
  {
   "cell_type": "code",
   "execution_count": 1,
   "metadata": {},
   "outputs": [],
   "source": [
    "using Pkg\n",
    "Pkg.add(\"StatsBase\")\n",
    "Pkg.add(\"ClassImbalance\")\n",
    "Pkg.add(\"ROCAnalysis\")\n",
    "using Pkg\n",
    "using DataFrames\n",
    "using CSV\n",
    "using Plots\n",
    "using GLM\n",
    "using StatsBase\n",
    "using Lathe\n",
    "using MLBase\n",
    "using ClassImbalance\n",
    "using ROCAnalysis\n"
   ]
  },
  {
   "cell_type": "code",
   "execution_count": 6,
   "metadata": {},
   "outputs": [
    {
     "data": {
      "text/plain": [
       "1000"
      ]
     },
     "execution_count": 6,
     "metadata": {},
     "output_type": "execute_result"
    }
   ],
   "source": [
    "ENV[\"COLUMNS\"]=1000"
   ]
  },
  {
   "cell_type": "code",
   "execution_count": 9,
   "metadata": {},
   "outputs": [
    {
     "data": {
      "text/html": [
       "<table class=\"data-frame\"><thead><tr><th></th><th>RowNumber</th><th>CustomerId</th><th>Surname</th><th>CreditScore</th><th>Geography</th><th>Gender</th><th>Age</th><th>Tenure</th><th>Balance</th><th>NumOfProducts</th><th>HasCrCard</th><th>IsActiveMember</th><th>EstimatedSalary</th><th>Exited</th></tr><tr><th></th><th>Int64</th><th>Int64</th><th>String</th><th>Int64</th><th>String</th><th>String</th><th>Int64</th><th>Int64</th><th>Float64</th><th>Int64</th><th>Int64</th><th>Int64</th><th>Float64</th><th>Int64</th></tr></thead><tbody><p>5 rows × 14 columns</p><tr><th>1</th><td>1</td><td>15634602</td><td>Hargrave</td><td>619</td><td>France</td><td>Female</td><td>42</td><td>2</td><td>0.0</td><td>1</td><td>1</td><td>1</td><td>1.01349e5</td><td>1</td></tr><tr><th>2</th><td>2</td><td>15647311</td><td>Hill</td><td>608</td><td>Spain</td><td>Female</td><td>41</td><td>1</td><td>83807.9</td><td>1</td><td>0</td><td>1</td><td>1.12543e5</td><td>0</td></tr><tr><th>3</th><td>3</td><td>15619304</td><td>Onio</td><td>502</td><td>France</td><td>Female</td><td>42</td><td>8</td><td>1.59661e5</td><td>3</td><td>1</td><td>0</td><td>1.13932e5</td><td>1</td></tr><tr><th>4</th><td>4</td><td>15701354</td><td>Boni</td><td>699</td><td>France</td><td>Female</td><td>39</td><td>1</td><td>0.0</td><td>2</td><td>0</td><td>0</td><td>93826.6</td><td>0</td></tr><tr><th>5</th><td>5</td><td>15737888</td><td>Mitchell</td><td>850</td><td>Spain</td><td>Female</td><td>43</td><td>2</td><td>1.25511e5</td><td>1</td><td>1</td><td>1</td><td>79084.1</td><td>0</td></tr></tbody></table>"
      ],
      "text/latex": [
       "\\begin{tabular}{r|cccccccccccccc}\n",
       "\t& RowNumber & CustomerId & Surname & CreditScore & Geography & Gender & Age & Tenure & Balance & NumOfProducts & HasCrCard & IsActiveMember & EstimatedSalary & Exited\\\\\n",
       "\t\\hline\n",
       "\t& Int64 & Int64 & String & Int64 & String & String & Int64 & Int64 & Float64 & Int64 & Int64 & Int64 & Float64 & Int64\\\\\n",
       "\t\\hline\n",
       "\t1 & 1 & 15634602 & Hargrave & 619 & France & Female & 42 & 2 & 0.0 & 1 & 1 & 1 & 1.01349e5 & 1 \\\\\n",
       "\t2 & 2 & 15647311 & Hill & 608 & Spain & Female & 41 & 1 & 83807.9 & 1 & 0 & 1 & 1.12543e5 & 0 \\\\\n",
       "\t3 & 3 & 15619304 & Onio & 502 & France & Female & 42 & 8 & 1.59661e5 & 3 & 1 & 0 & 1.13932e5 & 1 \\\\\n",
       "\t4 & 4 & 15701354 & Boni & 699 & France & Female & 39 & 1 & 0.0 & 2 & 0 & 0 & 93826.6 & 0 \\\\\n",
       "\t5 & 5 & 15737888 & Mitchell & 850 & Spain & Female & 43 & 2 & 1.25511e5 & 1 & 1 & 1 & 79084.1 & 0 \\\\\n",
       "\\end{tabular}\n"
      ],
      "text/plain": [
       "5×14 DataFrame\n",
       "│ Row │ RowNumber │ CustomerId │ Surname  │ CreditScore │ Geography │ Gender │ Age   │ Tenure │ Balance   │ NumOfProducts │ HasCrCard │ IsActiveMember │ EstimatedSalary │ Exited │\n",
       "│     │ \u001b[90mInt64\u001b[39m     │ \u001b[90mInt64\u001b[39m      │ \u001b[90mString\u001b[39m   │ \u001b[90mInt64\u001b[39m       │ \u001b[90mString\u001b[39m    │ \u001b[90mString\u001b[39m │ \u001b[90mInt64\u001b[39m │ \u001b[90mInt64\u001b[39m  │ \u001b[90mFloat64\u001b[39m   │ \u001b[90mInt64\u001b[39m         │ \u001b[90mInt64\u001b[39m     │ \u001b[90mInt64\u001b[39m          │ \u001b[90mFloat64\u001b[39m         │ \u001b[90mInt64\u001b[39m  │\n",
       "├─────┼───────────┼────────────┼──────────┼─────────────┼───────────┼────────┼───────┼────────┼───────────┼───────────────┼───────────┼────────────────┼─────────────────┼────────┤\n",
       "│ 1   │ 1         │ 15634602   │ Hargrave │ 619         │ France    │ Female │ 42    │ 2      │ 0.0       │ 1             │ 1         │ 1              │ 1.01349e5       │ 1      │\n",
       "│ 2   │ 2         │ 15647311   │ Hill     │ 608         │ Spain     │ Female │ 41    │ 1      │ 83807.9   │ 1             │ 0         │ 1              │ 1.12543e5       │ 0      │\n",
       "│ 3   │ 3         │ 15619304   │ Onio     │ 502         │ France    │ Female │ 42    │ 8      │ 1.59661e5 │ 3             │ 1         │ 0              │ 1.13932e5       │ 1      │\n",
       "│ 4   │ 4         │ 15701354   │ Boni     │ 699         │ France    │ Female │ 39    │ 1      │ 0.0       │ 2             │ 0         │ 0              │ 93826.6         │ 0      │\n",
       "│ 5   │ 5         │ 15737888   │ Mitchell │ 850         │ Spain     │ Female │ 43    │ 2      │ 1.25511e5 │ 1             │ 1         │ 1              │ 79084.1         │ 0      │"
      ]
     },
     "execution_count": 9,
     "metadata": {},
     "output_type": "execute_result"
    }
   ],
   "source": [
    "df=DataFrame(CSV.File(\"churn.csv\"))\n",
    "first(df,5)"
   ]
  },
  {
   "cell_type": "code",
   "execution_count": 10,
   "metadata": {},
   "outputs": [
    {
     "name": "stdout",
     "output_type": "stream",
     "text": [
      "(10000, 14)\n"
     ]
    },
    {
     "data": {
      "text/html": [
       "<table class=\"data-frame\"><thead><tr><th></th><th>variable</th><th>mean</th><th>min</th><th>median</th><th>max</th><th>nunique</th><th>nmissing</th><th>eltype</th></tr><tr><th></th><th>Symbol</th><th>Union…</th><th>Any</th><th>Union…</th><th>Any</th><th>Union…</th><th>Nothing</th><th>DataType</th></tr></thead><tbody><p>14 rows × 8 columns</p><tr><th>1</th><td>RowNumber</td><td>5000.5</td><td>1</td><td>5000.5</td><td>10000</td><td></td><td></td><td>Int64</td></tr><tr><th>2</th><td>CustomerId</td><td>1.56909e7</td><td>15565701</td><td>1.56907e7</td><td>15815690</td><td></td><td></td><td>Int64</td></tr><tr><th>3</th><td>Surname</td><td></td><td>Abazu</td><td></td><td>Zuyeva</td><td>2932</td><td></td><td>String</td></tr><tr><th>4</th><td>CreditScore</td><td>650.529</td><td>350</td><td>652.0</td><td>850</td><td></td><td></td><td>Int64</td></tr><tr><th>5</th><td>Geography</td><td></td><td>France</td><td></td><td>Spain</td><td>3</td><td></td><td>String</td></tr><tr><th>6</th><td>Gender</td><td></td><td>Female</td><td></td><td>Male</td><td>2</td><td></td><td>String</td></tr><tr><th>7</th><td>Age</td><td>38.9218</td><td>18</td><td>37.0</td><td>92</td><td></td><td></td><td>Int64</td></tr><tr><th>8</th><td>Tenure</td><td>5.0128</td><td>0</td><td>5.0</td><td>10</td><td></td><td></td><td>Int64</td></tr><tr><th>9</th><td>Balance</td><td>76485.9</td><td>0.0</td><td>97198.5</td><td>2.50898e5</td><td></td><td></td><td>Float64</td></tr><tr><th>10</th><td>NumOfProducts</td><td>1.5302</td><td>1</td><td>1.0</td><td>4</td><td></td><td></td><td>Int64</td></tr><tr><th>11</th><td>HasCrCard</td><td>0.7055</td><td>0</td><td>1.0</td><td>1</td><td></td><td></td><td>Int64</td></tr><tr><th>12</th><td>IsActiveMember</td><td>0.5151</td><td>0</td><td>1.0</td><td>1</td><td></td><td></td><td>Int64</td></tr><tr><th>13</th><td>EstimatedSalary</td><td>1.0009e5</td><td>11.58</td><td>1.00194e5</td><td>1.99992e5</td><td></td><td></td><td>Float64</td></tr><tr><th>14</th><td>Exited</td><td>0.2037</td><td>0</td><td>0.0</td><td>1</td><td></td><td></td><td>Int64</td></tr></tbody></table>"
      ],
      "text/latex": [
       "\\begin{tabular}{r|cccccccc}\n",
       "\t& variable & mean & min & median & max & nunique & nmissing & eltype\\\\\n",
       "\t\\hline\n",
       "\t& Symbol & Union… & Any & Union… & Any & Union… & Nothing & DataType\\\\\n",
       "\t\\hline\n",
       "\t1 & RowNumber & 5000.5 & 1 & 5000.5 & 10000 &  &  & Int64 \\\\\n",
       "\t2 & CustomerId & 1.56909e7 & 15565701 & 1.56907e7 & 15815690 &  &  & Int64 \\\\\n",
       "\t3 & Surname &  & Abazu &  & Zuyeva & 2932 &  & String \\\\\n",
       "\t4 & CreditScore & 650.529 & 350 & 652.0 & 850 &  &  & Int64 \\\\\n",
       "\t5 & Geography &  & France &  & Spain & 3 &  & String \\\\\n",
       "\t6 & Gender &  & Female &  & Male & 2 &  & String \\\\\n",
       "\t7 & Age & 38.9218 & 18 & 37.0 & 92 &  &  & Int64 \\\\\n",
       "\t8 & Tenure & 5.0128 & 0 & 5.0 & 10 &  &  & Int64 \\\\\n",
       "\t9 & Balance & 76485.9 & 0.0 & 97198.5 & 2.50898e5 &  &  & Float64 \\\\\n",
       "\t10 & NumOfProducts & 1.5302 & 1 & 1.0 & 4 &  &  & Int64 \\\\\n",
       "\t11 & HasCrCard & 0.7055 & 0 & 1.0 & 1 &  &  & Int64 \\\\\n",
       "\t12 & IsActiveMember & 0.5151 & 0 & 1.0 & 1 &  &  & Int64 \\\\\n",
       "\t13 & EstimatedSalary & 1.0009e5 & 11.58 & 1.00194e5 & 1.99992e5 &  &  & Float64 \\\\\n",
       "\t14 & Exited & 0.2037 & 0 & 0.0 & 1 &  &  & Int64 \\\\\n",
       "\\end{tabular}\n"
      ],
      "text/plain": [
       "14×8 DataFrame\n",
       "│ Row │ variable        │ mean      │ min      │ median    │ max       │ nunique │ nmissing │ eltype   │\n",
       "│     │ \u001b[90mSymbol\u001b[39m          │ \u001b[90mUnion…\u001b[39m    │ \u001b[90mAny\u001b[39m      │ \u001b[90mUnion…\u001b[39m    │ \u001b[90mAny\u001b[39m       │ \u001b[90mUnion…\u001b[39m  │ \u001b[90mNothing\u001b[39m  │ \u001b[90mDataType\u001b[39m │\n",
       "├─────┼─────────────────┼───────────┼──────────┼───────────┼───────────┼─────────┼──────────┼──────────┤\n",
       "│ 1   │ RowNumber       │ 5000.5    │ 1        │ 5000.5    │ 10000     │         │          │ Int64    │\n",
       "│ 2   │ CustomerId      │ 1.56909e7 │ 15565701 │ 1.56907e7 │ 15815690  │         │          │ Int64    │\n",
       "│ 3   │ Surname         │           │ Abazu    │           │ Zuyeva    │ 2932    │          │ String   │\n",
       "│ 4   │ CreditScore     │ 650.529   │ 350      │ 652.0     │ 850       │         │          │ Int64    │\n",
       "│ 5   │ Geography       │           │ France   │           │ Spain     │ 3       │          │ String   │\n",
       "│ 6   │ Gender          │           │ Female   │           │ Male      │ 2       │          │ String   │\n",
       "│ 7   │ Age             │ 38.9218   │ 18       │ 37.0      │ 92        │         │          │ Int64    │\n",
       "│ 8   │ Tenure          │ 5.0128    │ 0        │ 5.0       │ 10        │         │          │ Int64    │\n",
       "│ 9   │ Balance         │ 76485.9   │ 0.0      │ 97198.5   │ 2.50898e5 │         │          │ Float64  │\n",
       "│ 10  │ NumOfProducts   │ 1.5302    │ 1        │ 1.0       │ 4         │         │          │ Int64    │\n",
       "│ 11  │ HasCrCard       │ 0.7055    │ 0        │ 1.0       │ 1         │         │          │ Int64    │\n",
       "│ 12  │ IsActiveMember  │ 0.5151    │ 0        │ 1.0       │ 1         │         │          │ Int64    │\n",
       "│ 13  │ EstimatedSalary │ 1.0009e5  │ 11.58    │ 1.00194e5 │ 1.99992e5 │         │          │ Float64  │\n",
       "│ 14  │ Exited          │ 0.2037    │ 0        │ 0.0       │ 1         │         │          │ Int64    │"
      ]
     },
     "execution_count": 10,
     "metadata": {},
     "output_type": "execute_result"
    }
   ],
   "source": [
    "println(size(df))\n",
    "describe(df)"
   ]
  },
  {
   "cell_type": "code",
   "execution_count": 11,
   "metadata": {},
   "outputs": [
    {
     "data": {
      "text/plain": [
       "14-element Array{Symbol,1}:\n",
       " :RowNumber\n",
       " :CustomerId\n",
       " :Surname\n",
       " :CreditScore\n",
       " :Geography\n",
       " :Gender\n",
       " :Age\n",
       " :Tenure\n",
       " :Balance\n",
       " :NumOfProducts\n",
       " :HasCrCard\n",
       " :IsActiveMember\n",
       " :EstimatedSalary\n",
       " :Exited"
      ]
     },
     "execution_count": 11,
     "metadata": {},
     "output_type": "execute_result"
    }
   ],
   "source": [
    "names(df)"
   ]
  },
  {
   "cell_type": "code",
   "execution_count": 12,
   "metadata": {},
   "outputs": [
    {
     "data": {
      "text/html": [
       "<table class=\"data-frame\"><thead><tr><th></th><th>CreditScore</th><th>Age</th><th>Tenure</th><th>Balance</th><th>NumOfProducts</th><th>HasCrCard</th><th>IsActiveMember</th><th>EstimatedSalary</th><th>Exited</th><th>France</th><th>Spain</th><th>Germany</th><th>Female</th></tr><tr><th></th><th>Int64</th><th>Int64</th><th>Int64</th><th>Float64</th><th>Int64</th><th>Int64</th><th>Int64</th><th>Float64</th><th>Int64</th><th>Bool</th><th>Bool</th><th>Bool</th><th>Bool</th></tr></thead><tbody><p>5 rows × 13 columns</p><tr><th>1</th><td>619</td><td>42</td><td>2</td><td>0.0</td><td>1</td><td>1</td><td>1</td><td>1.01349e5</td><td>1</td><td>1</td><td>0</td><td>0</td><td>1</td></tr><tr><th>2</th><td>608</td><td>41</td><td>1</td><td>83807.9</td><td>1</td><td>0</td><td>1</td><td>1.12543e5</td><td>0</td><td>0</td><td>1</td><td>0</td><td>1</td></tr><tr><th>3</th><td>502</td><td>42</td><td>8</td><td>1.59661e5</td><td>3</td><td>1</td><td>0</td><td>1.13932e5</td><td>1</td><td>1</td><td>0</td><td>0</td><td>1</td></tr><tr><th>4</th><td>699</td><td>39</td><td>1</td><td>0.0</td><td>2</td><td>0</td><td>0</td><td>93826.6</td><td>0</td><td>1</td><td>0</td><td>0</td><td>1</td></tr><tr><th>5</th><td>850</td><td>43</td><td>2</td><td>1.25511e5</td><td>1</td><td>1</td><td>1</td><td>79084.1</td><td>0</td><td>0</td><td>1</td><td>0</td><td>1</td></tr></tbody></table>"
      ],
      "text/latex": [
       "\\begin{tabular}{r|ccccccccccccc}\n",
       "\t& CreditScore & Age & Tenure & Balance & NumOfProducts & HasCrCard & IsActiveMember & EstimatedSalary & Exited & France & Spain & Germany & Female\\\\\n",
       "\t\\hline\n",
       "\t& Int64 & Int64 & Int64 & Float64 & Int64 & Int64 & Int64 & Float64 & Int64 & Bool & Bool & Bool & Bool\\\\\n",
       "\t\\hline\n",
       "\t1 & 619 & 42 & 2 & 0.0 & 1 & 1 & 1 & 1.01349e5 & 1 & 1 & 0 & 0 & 1 \\\\\n",
       "\t2 & 608 & 41 & 1 & 83807.9 & 1 & 0 & 1 & 1.12543e5 & 0 & 0 & 1 & 0 & 1 \\\\\n",
       "\t3 & 502 & 42 & 8 & 1.59661e5 & 3 & 1 & 0 & 1.13932e5 & 1 & 1 & 0 & 0 & 1 \\\\\n",
       "\t4 & 699 & 39 & 1 & 0.0 & 2 & 0 & 0 & 93826.6 & 0 & 1 & 0 & 0 & 1 \\\\\n",
       "\t5 & 850 & 43 & 2 & 1.25511e5 & 1 & 1 & 1 & 79084.1 & 0 & 0 & 1 & 0 & 1 \\\\\n",
       "\\end{tabular}\n"
      ],
      "text/plain": [
       "5×13 DataFrame\n",
       "│ Row │ CreditScore │ Age   │ Tenure │ Balance   │ NumOfProducts │ HasCrCard │ IsActiveMember │ EstimatedSalary │ Exited │ France │ Spain │ Germany │ Female │\n",
       "│     │ \u001b[90mInt64\u001b[39m       │ \u001b[90mInt64\u001b[39m │ \u001b[90mInt64\u001b[39m  │ \u001b[90mFloat64\u001b[39m   │ \u001b[90mInt64\u001b[39m         │ \u001b[90mInt64\u001b[39m     │ \u001b[90mInt64\u001b[39m          │ \u001b[90mFloat64\u001b[39m         │ \u001b[90mInt64\u001b[39m  │ \u001b[90mBool\u001b[39m   │ \u001b[90mBool\u001b[39m  │ \u001b[90mBool\u001b[39m    │ \u001b[90mBool\u001b[39m   │\n",
       "├─────┼─────────────┼───────┼────────┼───────────┼───────────────┼───────────┼────────────────┼─────────────────┼────────┼────────┼───────┼─────────┼────────┤\n",
       "│ 1   │ 619         │ 42    │ 2      │ 0.0       │ 1             │ 1         │ 1              │ 1.01349e5       │ 1      │ 1      │ 0     │ 0       │ 1      │\n",
       "│ 2   │ 608         │ 41    │ 1      │ 83807.9   │ 1             │ 0         │ 1              │ 1.12543e5       │ 0      │ 0      │ 1     │ 0       │ 1      │\n",
       "│ 3   │ 502         │ 42    │ 8      │ 1.59661e5 │ 3             │ 1         │ 0              │ 1.13932e5       │ 1      │ 1      │ 0     │ 0       │ 1      │\n",
       "│ 4   │ 699         │ 39    │ 1      │ 0.0       │ 2             │ 0         │ 0              │ 93826.6         │ 0      │ 1      │ 0     │ 0       │ 1      │\n",
       "│ 5   │ 850         │ 43    │ 2      │ 1.25511e5 │ 1             │ 1         │ 1              │ 79084.1         │ 0      │ 0      │ 1     │ 0       │ 1      │"
      ]
     },
     "execution_count": 12,
     "metadata": {},
     "output_type": "execute_result"
    }
   ],
   "source": [
    "Lathe.preprocess.OneHotEncode(df,:Geography)\n",
    "Lathe.preprocess.OneHotEncode(df,:Gender)\n",
    "select!(df,Not([:RowNumber,:CustomerId,:Surname,:Geography,:Gender,:Male]))\n",
    "first(df,5)"
   ]
  },
  {
   "cell_type": "code",
   "execution_count": 15,
   "metadata": {},
   "outputs": [],
   "source": [
    "using Lathe.preprocess: TrainTestSplit\n",
    "train,test=TrainTestSplit(df,.75);"
   ]
  },
  {
   "cell_type": "code",
   "execution_count": 16,
   "metadata": {},
   "outputs": [
    {
     "data": {
      "text/plain": [
       "StatsModels.TableRegressionModel{GeneralizedLinearModel{GLM.GlmResp{Array{Float64,1},Binomial{Float64},ProbitLink},GLM.DensePredChol{Float64,LinearAlgebra.Cholesky{Float64,Array{Float64,2}}}},Array{Float64,2}}\n",
       "\n",
       "Exited ~ 1 + CreditScore + Age + Tenure + Balance + NumOfProducts + HasCrCard + IsActiveMember + EstimatedSalary + Female + France + Spain\n",
       "\n",
       "Coefficients:\n",
       "───────────────────────────────────────────────────────────────────────────────────────\n",
       "                        Coef.   Std. Error       z  Pr(>|z|)     Lower 95%    Upper 95%\n",
       "───────────────────────────────────────────────────────────────────────────────────────\n",
       "(Intercept)      -1.94543      0.16886      -11.52    <1e-29  -2.27639      -1.61447\n",
       "CreditScore      -0.000341466  0.000187004   -1.83    0.0679  -0.000707988   2.50553e-5\n",
       "Age               0.0419738    0.0016973     24.73    <1e-99   0.0386471     0.0453004\n",
       "Tenure           -0.00472278   0.00616724    -0.77    0.4438  -0.0168103     0.00736479\n",
       "Balance           1.63586e-6   3.37557e-7     4.85    <1e-5    9.74256e-7    2.29746e-6\n",
       "NumOfProducts    -0.0639837    0.0315387     -2.03    0.0425  -0.125798     -0.00216899\n",
       "HasCrCard        -0.0264721    0.039321      -0.67    0.5008  -0.10354       0.0505956\n",
       "IsActiveMember   -0.602608     0.0373552    -16.13    <1e-57  -0.675822     -0.529393\n",
       "EstimatedSalary   3.2843e-7    3.13834e-7     1.05    0.2953  -2.86672e-7    9.43533e-7\n",
       "Female            0.333293     0.0359676      9.27    <1e-19   0.262798      0.403788\n",
       "France           -0.436786     0.0453511     -9.63    <1e-21  -0.525672     -0.347899\n",
       "Spain            -0.405823     0.0527699     -7.69    <1e-13  -0.50925      -0.302396\n",
       "───────────────────────────────────────────────────────────────────────────────────────"
      ]
     },
     "execution_count": 16,
     "metadata": {},
     "output_type": "execute_result"
    }
   ],
   "source": [
    "fm = @formula(Exited ~ CreditScore + Age + Tenure +Balance +NumOfProducts + HasCrCard + IsActiveMember + EstimatedSalary + Female + France +Spain)\n",
    "logit = glm(fm, train, Binomial(), ProbitLink())"
   ]
  },
  {
   "cell_type": "code",
   "execution_count": 17,
   "metadata": {},
   "outputs": [
    {
     "data": {
      "text/plain": [
       "2537-element Array{Union{Missing, Float64},1}:\n",
       " 0.2258724606811663\n",
       " 0.16489039410257667\n",
       " 0.11527827456804528\n",
       " 0.11039838882182472\n",
       " 0.06249531565968946\n",
       " 0.07753887213101966\n",
       " 0.13234432444275648\n",
       " 0.05916959410159228\n",
       " 0.1788428563496759\n",
       " 0.3995644591658774\n",
       " 0.2763580761185168\n",
       " 0.09335821350977436\n",
       " 0.19600626422838333\n",
       " ⋮\n",
       " 0.08883418154330461\n",
       " 0.014047738351140518\n",
       " 0.13247222558960253\n",
       " 0.5146620424791447\n",
       " 0.20954984562663728\n",
       " 0.041785553415771226\n",
       " 0.09563524685067748\n",
       " 0.03607148482381811\n",
       " 0.01462244443259873\n",
       " 0.13052783365395249\n",
       " 0.12405582837411777\n",
       " 0.044342505006766654"
      ]
     },
     "execution_count": 17,
     "metadata": {},
     "output_type": "execute_result"
    }
   ],
   "source": [
    "prediction = predict(logit,test)"
   ]
  }
 ],
 "metadata": {
  "kernelspec": {
   "display_name": "Julia 1.5.4",
   "language": "julia",
   "name": "julia-1.5"
  },
  "language_info": {
   "file_extension": ".jl",
   "mimetype": "application/julia",
   "name": "julia",
   "version": "1.5.4"
  }
 },
 "nbformat": 4,
 "nbformat_minor": 4
}
